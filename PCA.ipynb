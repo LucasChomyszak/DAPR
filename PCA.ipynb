{
  "nbformat": 4,
  "nbformat_minor": 0,
  "metadata": {
    "colab": {
      "provenance": [],
      "authorship_tag": "ABX9TyO7aFzexpEaobK3ywtG7PSw",
      "include_colab_link": true
    },
    "kernelspec": {
      "name": "python3",
      "display_name": "Python 3"
    },
    "language_info": {
      "name": "python"
    }
  },
  "cells": [
    {
      "cell_type": "markdown",
      "metadata": {
        "id": "view-in-github",
        "colab_type": "text"
      },
      "source": [
        "<a href=\"https://colab.research.google.com/github/LucasChomyszak/DAPR/blob/main/PCA.ipynb\" target=\"_parent\"><img src=\"https://colab.research.google.com/assets/colab-badge.svg\" alt=\"Open In Colab\"/></a>"
      ]
    },
    {
      "cell_type": "code",
      "execution_count": 7,
      "metadata": {
        "id": "k0gEeqSDC89f"
      },
      "outputs": [],
      "source": [
        "import seaborn as sns\n",
        "import pandas as pd\n",
        "\n",
        "Penguins=sns.load_dataset('penguins')"
      ]
    },
    {
      "cell_type": "code",
      "source": [
        "Penguins.columns"
      ],
      "metadata": {
        "colab": {
          "base_uri": "https://localhost:8080/"
        },
        "id": "K4-RJohsDCAY",
        "outputId": "dde66ec7-2cb4-446c-93d7-8448454a12d4"
      },
      "execution_count": 8,
      "outputs": [
        {
          "output_type": "execute_result",
          "data": {
            "text/plain": [
              "Index(['species', 'island', 'bill_length_mm', 'bill_depth_mm',\n",
              "       'flipper_length_mm', 'body_mass_g', 'sex'],\n",
              "      dtype='object')"
            ]
          },
          "metadata": {},
          "execution_count": 8
        }
      ]
    },
    {
      "cell_type": "code",
      "source": [
        "Penguins_num = Penguins.select_dtypes(include='number')\n",
        "Penguins_class=Penguins['species']\n",
        "Penguins_num_nona=Penguins_num.dropna()\n",
        "\n"
      ],
      "metadata": {
        "id": "lcEVE9NXDkQ3"
      },
      "execution_count": 13,
      "outputs": []
    },
    {
      "cell_type": "code",
      "source": [
        "\n",
        "from sklearn import decomposition\n",
        "from sklearn.preprocessing import StandardScaler\n",
        "XS = StandardScaler().fit_transform(Penguins_num_nona)\n",
        "\n",
        "pca = decomposition.PCA(n_components=4).fit(XS)\n",
        "\n",
        "Xproj = pca.transform(XS)\n",
        "\n",
        "\n",
        "print('eigenvalues = {} {} {} {}'.format(*pca.explained_variance_))\n",
        "print('Explained variance = {} {} {} {}'.format(*pca.explained_variance_ratio_))"
      ],
      "metadata": {
        "colab": {
          "base_uri": "https://localhost:8080/"
        },
        "id": "cXQMYhhbExh4",
        "outputId": "7b86f0fa-28a6-4270-be6f-3753e95c1141"
      },
      "execution_count": 18,
      "outputs": [
        {
          "output_type": "stream",
          "name": "stdout",
          "text": [
            "eigenvalues = 2.7618306521157296 0.7747821988818535 0.3663069794511554 0.10881037482985416\n",
            "Explained variance = 0.6884387809732921 0.19312918846397076 0.09130897660295612 0.02712305395978089\n"
          ]
        }
      ]
    },
    {
      "cell_type": "code",
      "source": [
        "print('eigenvalues = {} {} {} {}'.format(*pca.explained_variance_))\n",
        "print('Explained variance = {} {} {} {}'.format(*pca.explained_variance_ratio_.cumsum()))"
      ],
      "metadata": {
        "colab": {
          "base_uri": "https://localhost:8080/"
        },
        "id": "3u9932sIFutZ",
        "outputId": "23c2ac9e-4bf6-4e87-a606-b45fad5cb5c5"
      },
      "execution_count": 20,
      "outputs": [
        {
          "output_type": "stream",
          "name": "stdout",
          "text": [
            "eigenvalues = 2.7618306521157296 0.7747821988818535 0.3663069794511554 0.10881037482985416\n",
            "Explained variance = 0.6884387809732921 0.8815679694372629 0.972876946040219 0.9999999999999999\n"
          ]
        }
      ]
    }
  ]
}